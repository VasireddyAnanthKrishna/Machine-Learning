{
  "nbformat": 4,
  "nbformat_minor": 0,
  "metadata": {
    "colab": {
      "provenance": [],
      "include_colab_link": true
    },
    "kernelspec": {
      "name": "python3",
      "display_name": "Python 3"
    },
    "language_info": {
      "name": "python"
    }
  },
  "cells": [
    {
      "cell_type": "markdown",
      "metadata": {
        "id": "view-in-github",
        "colab_type": "text"
      },
      "source": [
        "<a href=\"https://colab.research.google.com/github/VasireddyAnanthKrishna/Machine-Learning/blob/main/week_3_numpy.ipynb\" target=\"_parent\"><img src=\"https://colab.research.google.com/assets/colab-badge.svg\" alt=\"Open In Colab\"/></a>"
      ]
    },
    {
      "cell_type": "code",
      "execution_count": 1,
      "metadata": {
        "id": "hpQl-3eFcVaS"
      },
      "outputs": [],
      "source": [
        "import numpy as np"
      ]
    },
    {
      "cell_type": "code",
      "source": [
        "arr = np.array([1,2,3,4,5]) #1-d array\n",
        "arr"
      ],
      "metadata": {
        "colab": {
          "base_uri": "https://localhost:8080/"
        },
        "id": "z002Fr5g8Q33",
        "outputId": "f8122d7c-5bc7-467f-f95d-47bc1bd94fb3"
      },
      "execution_count": 2,
      "outputs": [
        {
          "output_type": "execute_result",
          "data": {
            "text/plain": [
              "array([1, 2, 3, 4, 5])"
            ]
          },
          "metadata": {},
          "execution_count": 2
        }
      ]
    },
    {
      "cell_type": "code",
      "source": [
        "arr = np.array([[1,2,3,4],[5,6,7,8]]) #2-d array\n",
        "print(arr)\n",
        "print(arr.ndim) #printing no.of dimensions"
      ],
      "metadata": {
        "colab": {
          "base_uri": "https://localhost:8080/"
        },
        "id": "e_UhdLMw8lWg",
        "outputId": "6fa3fc30-eabe-4b50-b4a8-1d4f3fc60c72"
      },
      "execution_count": 3,
      "outputs": [
        {
          "output_type": "stream",
          "name": "stdout",
          "text": [
            "[[1 2 3 4]\n",
            " [5 6 7 8]]\n",
            "2\n"
          ]
        }
      ]
    },
    {
      "cell_type": "code",
      "source": [
        "arr = np.array([[[1,2,3,4],[5,6,7,8],[1,2,3,4]]]) #3-d array\n",
        "print(arr)\n",
        "print(arr.ndim)"
      ],
      "metadata": {
        "colab": {
          "base_uri": "https://localhost:8080/"
        },
        "id": "HiKosJTu871z",
        "outputId": "0f7018f8-a09d-451a-e1f6-1cbe4d300713"
      },
      "execution_count": 4,
      "outputs": [
        {
          "output_type": "stream",
          "name": "stdout",
          "text": [
            "[[[1 2 3 4]\n",
            "  [5 6 7 8]\n",
            "  [1 2 3 4]]]\n",
            "3\n"
          ]
        }
      ]
    },
    {
      "cell_type": "code",
      "source": [
        "arr = np.array([1,2,3,4]) \n",
        "print(arr[3])"
      ],
      "metadata": {
        "colab": {
          "base_uri": "https://localhost:8080/"
        },
        "id": "CNaYmoo69RPn",
        "outputId": "7ff4d36a-8e70-4c21-f8a9-81bbf1c96eae"
      },
      "execution_count": 5,
      "outputs": [
        {
          "output_type": "stream",
          "name": "stdout",
          "text": [
            "4\n"
          ]
        }
      ]
    },
    {
      "cell_type": "code",
      "source": [
        "arr = np.array([1,2,3,4]) \n",
        "print(arr[3]+arr[1])"
      ],
      "metadata": {
        "colab": {
          "base_uri": "https://localhost:8080/"
        },
        "id": "2SBDoT8h9pjl",
        "outputId": "dd8e8d9e-bced-4175-b312-03cba34db7b6"
      },
      "execution_count": 6,
      "outputs": [
        {
          "output_type": "stream",
          "name": "stdout",
          "text": [
            "6\n"
          ]
        }
      ]
    },
    {
      "cell_type": "code",
      "source": [
        "arr = np.array([[1,2,3,4],[5,6,7,8]]) #2-d array position of element\n",
        "print(arr[0,1])"
      ],
      "metadata": {
        "colab": {
          "base_uri": "https://localhost:8080/"
        },
        "id": "MSN40BfR9uNv",
        "outputId": "2249efb4-4466-4817-b02f-5b169d708c00"
      },
      "execution_count": 7,
      "outputs": [
        {
          "output_type": "stream",
          "name": "stdout",
          "text": [
            "2\n"
          ]
        }
      ]
    },
    {
      "cell_type": "code",
      "source": [
        "arr = np.array([[[1, 2, 3], [4, 5, 6]], [[7, 8, 9], [10, 11, 12]]]) #3-d array position of element\n",
        "print(arr[0,1,2])"
      ],
      "metadata": {
        "colab": {
          "base_uri": "https://localhost:8080/"
        },
        "id": "4ixd7aOl-Cla",
        "outputId": "bb3edc89-3699-469b-f8b0-3bef0a64fa34"
      },
      "execution_count": 8,
      "outputs": [
        {
          "output_type": "stream",
          "name": "stdout",
          "text": [
            "6\n"
          ]
        }
      ]
    },
    {
      "cell_type": "code",
      "source": [
        "arr = np.array([[1,2,3,4],[5,6,7,8],[22,33,44,55]]) #Print the last element from the 2nd dim:\n",
        "print(arr[1,-1])\n",
        "print(arr)"
      ],
      "metadata": {
        "colab": {
          "base_uri": "https://localhost:8080/"
        },
        "id": "hfaPt385-TcA",
        "outputId": "a2106c00-5285-4e7b-e5f2-23db06acf791"
      },
      "execution_count": 9,
      "outputs": [
        {
          "output_type": "stream",
          "name": "stdout",
          "text": [
            "8\n",
            "[[ 1  2  3  4]\n",
            " [ 5  6  7  8]\n",
            " [22 33 44 55]]\n"
          ]
        }
      ]
    },
    {
      "cell_type": "code",
      "source": [
        "# Flattening the arrays (Converting a multidimensional array into a 1D array)\n",
        "arr = np.array([[1, 2, 3], [4, 5, 6]])\n",
        "newarr = arr.reshape(-1)\n",
        "print(newarr)\n",
        "print(newarr.ndim)\n",
        "print(newarr.shape)"
      ],
      "metadata": {
        "colab": {
          "base_uri": "https://localhost:8080/"
        },
        "id": "zXEcnR-gWAFl",
        "outputId": "426950c0-c124-40a7-e167-6192dacd2b4d"
      },
      "execution_count": 10,
      "outputs": [
        {
          "output_type": "stream",
          "name": "stdout",
          "text": [
            "[1 2 3 4 5 6]\n",
            "1\n",
            "(6,)\n"
          ]
        }
      ]
    },
    {
      "cell_type": "code",
      "source": [
        "# Mean, Median and Standard deviation\n",
        "a = np.arange(5,50,2)\n",
        "print(a)\n",
        "print('Mean :',np.mean(a))\n",
        "print('Standard deviation :',np.std(a))\n",
        "print('Median :',np.median(a))\n",
        "\n",
        "# minimum along a column\n",
        "print('Min :',np.min(a))\n",
        "# maximum along a row\n",
        "print('Max :',np.max(a))"
      ],
      "metadata": {
        "colab": {
          "base_uri": "https://localhost:8080/"
        },
        "id": "2ZPIchx8VjxY",
        "outputId": "2e6b5422-d336-4c83-a8c6-5714b7d2463a"
      },
      "execution_count": 11,
      "outputs": [
        {
          "output_type": "stream",
          "name": "stdout",
          "text": [
            "[ 5  7  9 11 13 15 17 19 21 23 25 27 29 31 33 35 37 39 41 43 45 47 49]\n",
            "Mean : 27.0\n",
            "Standard deviation : 13.2664991614216\n",
            "Median : 27.0\n",
            "Min : 5\n",
            "Max : 49\n"
          ]
        }
      ]
    },
    {
      "cell_type": "code",
      "source": [
        "# Array Arithmetic\n",
        "a = np.array([[3, 2, 4], [5, 0, 1], [2, 5, 8]])\n",
        "b = np.array([[1, 0, 5], [2, 3, 7], [6, 4, 5]])\n",
        "\n",
        "print(a+2)\n",
        "print(a-1)\n",
        "print(a*5)\n",
        "print(a/2)\n",
        "\n",
        "c = a + b\n",
        "print(c)\n",
        "\n",
        "d = a - b\n",
        "print(d)\n",
        "\n",
        "e = a * b\n",
        "print(e)"
      ],
      "metadata": {
        "colab": {
          "base_uri": "https://localhost:8080/"
        },
        "id": "7utOuV2yVrYX",
        "outputId": "979b9ac9-c196-42fd-e65f-2b889f118f35"
      },
      "execution_count": 12,
      "outputs": [
        {
          "output_type": "stream",
          "name": "stdout",
          "text": [
            "[[ 5  4  6]\n",
            " [ 7  2  3]\n",
            " [ 4  7 10]]\n",
            "[[ 2  1  3]\n",
            " [ 4 -1  0]\n",
            " [ 1  4  7]]\n",
            "[[15 10 20]\n",
            " [25  0  5]\n",
            " [10 25 40]]\n",
            "[[1.5 1.  2. ]\n",
            " [2.5 0.  0.5]\n",
            " [1.  2.5 4. ]]\n",
            "[[ 4  2  9]\n",
            " [ 7  3  8]\n",
            " [ 8  9 13]]\n",
            "[[ 2  2 -1]\n",
            " [ 3 -3 -6]\n",
            " [-4  1  3]]\n",
            "[[ 3  0 20]\n",
            " [10  0  7]\n",
            " [12 20 40]]\n"
          ]
        }
      ]
    },
    {
      "cell_type": "code",
      "source": [
        "# NumPy Random\n",
        "from numpy import random\n",
        "\n",
        "x = random.randint(100)\n",
        "print(x)\n",
        "\n",
        "x1 = random.rand()\n",
        "print(x1)\n",
        "\n",
        "x2 = random.randint(100, size=(3, 5))\n",
        "print(x2)\n",
        "\n",
        "x3 = random.rand(3, 5)\n",
        "print(x3)\n"
      ],
      "metadata": {
        "colab": {
          "base_uri": "https://localhost:8080/"
        },
        "id": "IqaNFKJCVxqb",
        "outputId": "416d0973-3fc8-45d5-9b47-1da5f8b01c11"
      },
      "execution_count": 13,
      "outputs": [
        {
          "output_type": "stream",
          "name": "stdout",
          "text": [
            "15\n",
            "0.4357477345196351\n",
            "[[48 53 63 39  6]\n",
            " [88 94 99 67 84]\n",
            " [ 3 41  5 44 53]]\n",
            "[[0.61230927 0.53419288 0.83118119 0.32601302 0.60991023]\n",
            " [0.52357817 0.03508105 0.76684815 0.4484241  0.71151658]\n",
            " [0.38013451 0.47317828 0.34780004 0.51244195 0.40351991]]\n"
          ]
        }
      ]
    },
    {
      "cell_type": "code",
      "source": [
        "# Join two arrays\n",
        "\n",
        "arr1 = np.array([1, 2, 3])\n",
        "arr2 = np.array([4, 5, 6])\n",
        "arr = np.concatenate((arr1, arr2))\n",
        "print(arr)"
      ],
      "metadata": {
        "colab": {
          "base_uri": "https://localhost:8080/"
        },
        "id": "1z2mVTwBV6O6",
        "outputId": "c05a559d-6332-4655-b80d-db9d3b07cb5e"
      },
      "execution_count": 14,
      "outputs": [
        {
          "output_type": "stream",
          "name": "stdout",
          "text": [
            "[1 2 3 4 5 6]\n"
          ]
        }
      ]
    },
    {
      "cell_type": "code",
      "source": [
        "# Join two 2-D arrays along rows (axis=1)\n",
        "arr1 = np.array([[1, 2], [3, 4]])\n",
        "arr2 = np.array([[5, 6], [7, 8]])\n",
        "arr = np.concatenate((arr1, arr2), axis=1)\n",
        "print(arr)"
      ],
      "metadata": {
        "colab": {
          "base_uri": "https://localhost:8080/"
        },
        "id": "OAGmdYbHV8_K",
        "outputId": "7ca40719-ae1c-46d1-c4b6-7bd15aebc1e7"
      },
      "execution_count": 15,
      "outputs": [
        {
          "output_type": "stream",
          "name": "stdout",
          "text": [
            "[[1 2 5 6]\n",
            " [3 4 7 8]]\n"
          ]
        }
      ]
    },
    {
      "cell_type": "code",
      "source": [
        "# Random Distribution\n",
        "from numpy import random\n",
        "x = random.choice([3, 5, 7, 9], p=[0.1, 0.3, 0.6, 0.0], size=(100))\n",
        "print(x)\n",
        "\n",
        "y = random.choice([3, 5, 7, 9], p=[0.1, 0.3, 0.6, 0.0], size=(3, 5))\n",
        "print(y)"
      ],
      "metadata": {
        "id": "Sj9Okx4M_Oy5",
        "colab": {
          "base_uri": "https://localhost:8080/"
        },
        "outputId": "4ef83f31-66bc-4d3f-a02f-4bf0695dac6a"
      },
      "execution_count": 16,
      "outputs": [
        {
          "output_type": "stream",
          "name": "stdout",
          "text": [
            "[5 3 7 7 7 5 3 3 3 5 7 7 5 7 7 7 5 5 3 5 7 7 7 7 5 5 5 7 7 7 7 3 5 3 7 5 7\n",
            " 5 5 7 5 3 7 5 7 7 5 7 5 5 7 7 7 5 5 5 7 7 5 5 7 5 7 7 7 7 5 5 5 3 7 3 5 7\n",
            " 3 5 7 7 7 7 5 3 7 5 5 7 3 5 7 5 5 3 3 5 7 7 5 5 5 7]\n",
            "[[7 5 7 7 5]\n",
            " [7 5 5 7 7]\n",
            " [7 7 7 3 3]]\n"
          ]
        }
      ]
    },
    {
      "cell_type": "code",
      "source": [
        "x = random.normal(size=(2, 3))\n",
        "print(x)\n",
        "\n",
        "y = random.normal(loc=1, scale=2, size=(2, 3))\n",
        "print(y)"
      ],
      "metadata": {
        "colab": {
          "base_uri": "https://localhost:8080/"
        },
        "id": "jkU95f_SVgPH",
        "outputId": "9908c76e-23da-46fa-d5f8-1e464aa82ae6"
      },
      "execution_count": 17,
      "outputs": [
        {
          "output_type": "stream",
          "name": "stdout",
          "text": [
            "[[ 1.69244762  0.16580198  0.39269774]\n",
            " [ 1.77444743  0.62099418 -1.02464593]]\n",
            "[[1.6176154  0.28628251 2.24837245]\n",
            " [1.99105171 0.75714205 3.95579842]]\n"
          ]
        }
      ]
    }
  ]
}