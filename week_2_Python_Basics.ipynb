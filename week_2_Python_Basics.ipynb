{
  "nbformat": 4,
  "nbformat_minor": 0,
  "metadata": {
    "colab": {
      "provenance": [],
      "include_colab_link": true
    },
    "kernelspec": {
      "name": "python3",
      "display_name": "Python 3"
    },
    "language_info": {
      "name": "python"
    }
  },
  "cells": [
    {
      "cell_type": "markdown",
      "metadata": {
        "id": "view-in-github",
        "colab_type": "text"
      },
      "source": [
        "<a href=\"https://colab.research.google.com/github/VasireddyAnanthKrishna/Machine-Learning/blob/main/week_2_Python_Basics.ipynb\" target=\"_parent\"><img src=\"https://colab.research.google.com/assets/colab-badge.svg\" alt=\"Open In Colab\"/></a>"
      ]
    },
    {
      "cell_type": "code",
      "metadata": {
        "id": "wtG9obZio0rX",
        "colab": {
          "base_uri": "https://localhost:8080/"
        },
        "outputId": "c993b4ac-5d48-4c9e-ba94-35131c05c96b"
      },
      "source": [
        "# Python String Operations\n",
        "a = \"Hello, World!\"\n",
        "print(a.upper())\n",
        "\n",
        "a = \"Hello, World!\"\n",
        "print(a.lower())\n",
        "\n",
        "a = \" Hello, World! \"\n",
        "print(a.strip())\n",
        "\n",
        "a = \"Hello, World!\"\n",
        "print(a.replace(\"H\", \"J\"))\n",
        "\n",
        "a = \"Hello, World!\"\n",
        "print(a.split(\",\"))\n",
        "\n",
        "a = \"Hello\"\n",
        "b = \"World\"\n",
        "c = a + b\n",
        "print(c)\n",
        "\n",
        "age = 36\n",
        "txt = \"My name is John, and I am {}\"\n",
        "print(txt.format(age))\n",
        "\n",
        "quantity = 3\n",
        "itemno = 567\n",
        "price = 49.95\n",
        "myorder = \"I want {2} pieces of item {0} for {1} dollars.\"\n",
        "print(myorder.format(quantity, itemno, price))"
      ],
      "execution_count": 1,
      "outputs": [
        {
          "output_type": "stream",
          "name": "stdout",
          "text": [
            "HELLO, WORLD!\n",
            "hello, world!\n",
            "Hello, World!\n",
            "Jello, World!\n",
            "['Hello', ' World!']\n",
            "HelloWorld\n",
            "My name is John, and I am 36\n",
            "I want 49.95 pieces of item 3 for 567 dollars.\n"
          ]
        }
      ]
    },
    {
      "cell_type": "code",
      "metadata": {
        "id": "Y_j4ZZVToXVO",
        "colab": {
          "base_uri": "https://localhost:8080/"
        },
        "outputId": "2bacfcc9-4aa3-4564-a344-ef49f9547163"
      },
      "source": [
        "# Python List\n",
        "\n",
        "thislist = [\"apple\", \"banana\", \"cherry\"]\n",
        "print(len(thislist))\n",
        "\n",
        "list1 = [\"apple\", \"banana\", \"cherry\"]\n",
        "list2 = [1, 5, 7, 9, 3]\n",
        "list3 = [True, False, False]\n",
        "list4 = [\"abc\", 34, True, 40, \"male\"]\n",
        "\n",
        "thislist = [\"apple\", \"banana\", \"cherry\", \"orange\", \"kiwi\", \"melon\", \"mango\"]\n",
        "print(thislist[2:5])\n",
        "print(thislist[:4])\n",
        "print(thislist[2:])\n",
        "print(thislist[-4:-1])\n"
      ],
      "execution_count": 2,
      "outputs": [
        {
          "output_type": "stream",
          "name": "stdout",
          "text": [
            "3\n",
            "['cherry', 'orange', 'kiwi']\n",
            "['apple', 'banana', 'cherry', 'orange']\n",
            "['cherry', 'orange', 'kiwi', 'melon', 'mango']\n",
            "['orange', 'kiwi', 'melon']\n"
          ]
        }
      ]
    },
    {
      "cell_type": "code",
      "metadata": {
        "id": "AnNgXRqu45__",
        "colab": {
          "base_uri": "https://localhost:8080/"
        },
        "outputId": "228177ab-be2d-4230-b953-d280c7d5ed7a"
      },
      "source": [
        "# Python Tuples\n",
        "\n",
        "thistuple = (\"apple\", \"banana\", \"cherry\")\n",
        "print(thistuple)\n",
        "\n",
        "thistuple = (\"apple\",)\n",
        "print(type(thistuple))\n",
        "\n",
        "tuple1 = (\"apple\", \"banana\", \"cherry\")\n",
        "tuple2 = (1, 5, 7, 9, 3)\n",
        "tuple3 = (True, False, False)\n",
        "\n",
        "tuple1 = (\"abc\", 34, True, 40, \"male\")\n",
        "\n",
        "\n",
        "thistuple = (\"apple\", \"banana\", \"cherry\", \"orange\", \"kiwi\", \"melon\", \"mango\")\n",
        "print(thistuple[2:5])\n",
        "\n",
        "thistuple = (\"apple\", \"banana\", \"cherry\", \"orange\", \"kiwi\", \"melon\", \"mango\")\n",
        "print(thistuple[:4])\n",
        "\n",
        "thistuple = (\"apple\", \"banana\", \"cherry\", \"orange\", \"kiwi\", \"melon\", \"mango\")\n",
        "print(thistuple[2:])\n",
        "\n",
        "thistuple = (\"apple\", \"banana\", \"cherry\", \"orange\", \"kiwi\", \"melon\", \"mango\")\n",
        "print(thistuple[-4:-1])"
      ],
      "execution_count": 3,
      "outputs": [
        {
          "output_type": "stream",
          "name": "stdout",
          "text": [
            "('apple', 'banana', 'cherry')\n",
            "<class 'tuple'>\n",
            "('cherry', 'orange', 'kiwi')\n",
            "('apple', 'banana', 'cherry', 'orange')\n",
            "('cherry', 'orange', 'kiwi', 'melon', 'mango')\n",
            "('orange', 'kiwi', 'melon')\n"
          ]
        }
      ]
    },
    {
      "cell_type": "code",
      "metadata": {
        "id": "_PTWw6zbuCqG",
        "colab": {
          "base_uri": "https://localhost:8080/"
        },
        "outputId": "0046eb7d-d517-44e2-9c52-2b5763a8aa0f"
      },
      "source": [
        "# Python Sets\n",
        "\n",
        "thisset = {\"apple\", \"banana\", \"cherry\"}\n",
        "print(thisset)\n",
        "\n",
        "thisset = {\"apple\", \"banana\", \"cherry\", \"apple\"}\n",
        "print(thisset)\n",
        "\n",
        "set1 = {\"apple\", \"banana\", \"cherry\"}\n",
        "set2 = {1, 5, 7, 9, 3}\n",
        "set3 = {True, False, False}\n",
        "\n",
        "set1 = {\"abc\", 34, True, 40, \"male\"}\n",
        "\n",
        "thisset = {\"apple\", \"banana\", \"cherry\"}\n",
        "\n",
        "for x in thisset:\n",
        "  print(x)\n"
      ],
      "execution_count": 4,
      "outputs": [
        {
          "output_type": "stream",
          "name": "stdout",
          "text": [
            "{'banana', 'cherry', 'apple'}\n",
            "{'banana', 'cherry', 'apple'}\n",
            "banana\n",
            "cherry\n",
            "apple\n"
          ]
        }
      ]
    },
    {
      "cell_type": "code",
      "metadata": {
        "id": "ES2jQC-zucmt",
        "colab": {
          "base_uri": "https://localhost:8080/"
        },
        "outputId": "01222538-aef5-4963-bdbe-97369a912309"
      },
      "source": [
        "# Python Dictionaries\n",
        "\n",
        "thisdict = {\n",
        "  \"brand\": \"Ford\",\n",
        "  \"model\": \"Mustang\",\n",
        "  \"year\": 1964\n",
        "}\n",
        "print(thisdict)\n",
        "\n",
        "thisdict = {\n",
        "  \"brand\": \"Ford\",\n",
        "  \"model\": \"Mustang\",\n",
        "  \"year\": 1964,\n",
        "  \"year\": 2020\n",
        "}\n",
        "print(thisdict)\n",
        "\n",
        "print(thisdict[\"model\"])\n",
        "\n",
        "print(thisdict.get(\"model\"))\n",
        "\n",
        "print(thisdict.keys())\n",
        "\n",
        "print(thisdict.values())\n",
        "\n",
        "print(thisdict.items())"
      ],
      "execution_count": 5,
      "outputs": [
        {
          "output_type": "stream",
          "name": "stdout",
          "text": [
            "{'brand': 'Ford', 'model': 'Mustang', 'year': 1964}\n",
            "{'brand': 'Ford', 'model': 'Mustang', 'year': 2020}\n",
            "Mustang\n",
            "Mustang\n",
            "dict_keys(['brand', 'model', 'year'])\n",
            "dict_values(['Ford', 'Mustang', 2020])\n",
            "dict_items([('brand', 'Ford'), ('model', 'Mustang'), ('year', 2020)])\n"
          ]
        }
      ]
    },
    {
      "cell_type": "code",
      "metadata": {
        "id": "fkoBp5gQvdSS",
        "colab": {
          "base_uri": "https://localhost:8080/"
        },
        "outputId": "918dea01-ee4d-43c4-d72a-23113d59ecb7"
      },
      "source": [
        "def my_function():\n",
        "  print(\"Hello from a function\")\n",
        "\n",
        "my_function()\n",
        "\n"
      ],
      "execution_count": 6,
      "outputs": [
        {
          "output_type": "stream",
          "name": "stdout",
          "text": [
            "Hello from a function\n"
          ]
        }
      ]
    },
    {
      "cell_type": "code",
      "metadata": {
        "id": "GxGtMnb8waE0",
        "colab": {
          "base_uri": "https://localhost:8080/"
        },
        "outputId": "56e38a67-3753-4d2c-8d74-9dbf1307fe99"
      },
      "source": [
        "x = lambda a : a + 10\n",
        "print(x(5))\n",
        "\n",
        "\n",
        "x = lambda a, b : a * b\n",
        "print(x(5, 6))\n",
        "\n",
        "def myfunc(n):\n",
        "  return lambda a : a * n\n",
        "\n",
        "mydoubler = myfunc(2)\n",
        "mytripler = myfunc(3)\n",
        "\n",
        "print(mydoubler(11))\n",
        "print(mytripler(11))\n",
        "\n",
        "\n"
      ],
      "execution_count": 7,
      "outputs": [
        {
          "output_type": "stream",
          "name": "stdout",
          "text": [
            "15\n",
            "30\n",
            "22\n",
            "33\n"
          ]
        }
      ]
    }
  ]
}